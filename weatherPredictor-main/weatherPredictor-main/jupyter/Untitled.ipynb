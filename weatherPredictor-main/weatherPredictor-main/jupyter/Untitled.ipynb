{
 "cells": [
  {
   "cell_type": "code",
   "execution_count": 3,
   "id": "d6efb6c3",
   "metadata": {},
   "outputs": [
    {
     "name": "stdout",
     "output_type": "stream",
     "text": [
      "Clear\n"
     ]
    }
   ],
   "source": [
    "import joblib\n",
    "import pandas as pd\n",
    "\n",
    "# Load the saved model\n",
    "model = joblib.load('logistic_model_1.joblib')\n",
    "loaded_scaler = joblib.load('scaler.joblib')\n",
    "new_data = [[1, 8.6889, 8.6889, 0.93, 1.4329, 290, 5.8443, 1012.96]]\n",
    "\n",
    "# Convert new_data to a DataFrame\n",
    "new_data_df = pd.DataFrame(new_data, columns=['Precip Type', 'Temperature (C)', 'Apparent Temperature (C)', 'Humidity', 'Wind Speed (km/h)', 'Wind Bearing (degrees)', 'Visibility (km)', 'Pressure (millibars)'])\n",
    "new_data_scaled = loaded_scaler.transform(new_data_df)\n",
    "\n",
    "# Make predictions on the new data\n",
    "new_data_predictions = model.predict(new_data_scaled)\n",
    "\n",
    "# Print the predicted target variable values\n",
    "print(new_data_predictions[0])\n"
   ]
  },
  {
   "cell_type": "code",
   "execution_count": 11,
   "id": "edafb07d",
   "metadata": {},
   "outputs": [],
   "source": [
    "def predict(model_number,a,b,c,d,e,f,g,h):\n",
    "    model_list = [\"logistic_model_1.joblib\",\n",
    "                 \"logistic_model_2.joblib\",\n",
    "                 \"logistic_model_3.joblib\",\n",
    "                  \"random_forest_1.joblib\",\n",
    "                  \"random_forest_2.joblib\",\n",
    "                  \"random_forest_3.joblib\",\n",
    "                  \"neural_network_1.joblib\",\n",
    "                  \"neural_network_2.joblib\",\n",
    "                  \"neural_network_3.joblib\"\n",
    "                 ]\n",
    "    model_name = model_list[model_number-1] \n",
    "    model = joblib.load(model_name)\n",
    "    loaded_scaler = joblib.load('scaler.joblib')\n",
    "    if model_number > 6:\n",
    "        # Prepare the new data\n",
    "        new_data = [[a,b,c,d,e,f,g,h]]\n",
    "        # Convert new_data to a DataFrame\n",
    "        new_data_df = pd.DataFrame(new_data, columns=['Precip Type', 'Temperature (C)', 'Apparent Temperature (C)', 'Humidity', 'Wind Speed (km/h)', 'Wind Bearing (degrees)', 'Visibility (km)', 'Pressure (millibars)'])\n",
    "\n",
    "        # Predict using the trained model\n",
    "        external_pred_prob = model.predict(new_data_df)\n",
    "        external_pred = external_pred_prob.argmax(axis=1)\n",
    "\n",
    "        # Decode the predicted classes\n",
    "        external_pred = le.inverse_transform(external_pred.astype(int))\n",
    "\n",
    "        # Print the predictio\n",
    "        print(external_pred[0])\n",
    "        \n",
    "    \n",
    "    else:\n",
    "        new_data = [[a,b,c,d,e,f,g,h]]\n",
    "\n",
    "        # Convert new_data to a DataFrame\n",
    "        new_data_df = pd.DataFrame(new_data, columns=['Precip Type', 'Temperature (C)', 'Apparent Temperature (C)', 'Humidity', 'Wind Speed (km/h)', 'Wind Bearing (degrees)', 'Visibility (km)', 'Pressure (millibars)'])\n",
    "        new_data_scaled = loaded_scaler.transform(new_data_df)\n",
    "\n",
    "        # Make predictions on the new data\n",
    "        new_data_predictions = model.predict(new_data_scaled)\n",
    "\n",
    "        # Print the predicted target variable values\n",
    "        print(new_data_predictions[0])"
   ]
  },
  {
   "cell_type": "code",
   "execution_count": 13,
   "id": "05412740",
   "metadata": {},
   "outputs": [
    {
     "name": "stdout",
     "output_type": "stream",
     "text": [
      "Clear\n"
     ]
    }
   ],
   "source": [
    "(predict(3,1, 8.6889, 8.6889, 0.93, 1.4329, 290, 5.8443, 1012.96))"
   ]
  },
  {
   "cell_type": "code",
   "execution_count": null,
   "id": "4f03d571",
   "metadata": {},
   "outputs": [],
   "source": []
  }
 ],
 "metadata": {
  "kernelspec": {
   "display_name": "Python 3 (ipykernel)",
   "language": "python",
   "name": "python3"
  },
  "language_info": {
   "codemirror_mode": {
    "name": "ipython",
    "version": 3
   },
   "file_extension": ".py",
   "mimetype": "text/x-python",
   "name": "python",
   "nbconvert_exporter": "python",
   "pygments_lexer": "ipython3",
   "version": "3.10.6"
  }
 },
 "nbformat": 4,
 "nbformat_minor": 5
}
